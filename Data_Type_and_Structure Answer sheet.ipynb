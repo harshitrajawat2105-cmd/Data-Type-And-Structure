{
  "nbformat": 4,
  "nbformat_minor": 0,
  "metadata": {
    "colab": {
      "provenance": []
    },
    "kernelspec": {
      "name": "python3",
      "display_name": "Python 3"
    },
    "language_info": {
      "name": "python"
    }
  },
  "cells": [
    {
      "cell_type": "markdown",
      "source": [
        "# Data Type and Structure"
      ],
      "metadata": {
        "id": "bnkXehBuVHyT"
      }
    },
    {
      "cell_type": "markdown",
      "source": [
        "# Theoretical Questions And Answer"
      ],
      "metadata": {
        "id": "qC_Y1igLVLrf"
      }
    },
    {
      "cell_type": "markdown",
      "source": [
        "1- What are data structures, and why are they important?\n",
        "- Data structures are ways to organize and store data so it can be accessed and modified efficiently (e.g., arrays, lists, stacks, queues, trees, hash tables). They are important because choosing the right structure affects time/space efficiency and the simplicity of algorithms."
      ],
      "metadata": {
        "id": "fGAnuJmPVQb6"
      }
    },
    {
      "cell_type": "markdown",
      "source": [
        "2- Difference between mutable and immutable data types (with examples).\n",
        "- Mutable types can be changed after creation (e.g., Python list, dict, set).\n",
        "- Immutable types cannot be changed — any modification creates a new object (e.g., int, float, str, tuple)."
      ],
      "metadata": {
        "id": "rhoEGoh9VnFL"
      }
    },
    {
      "cell_type": "markdown",
      "source": [
        "3- Main differences between lists and tuples in Python.\n",
        "\n",
        "- Lists are mutable, tuples are immutable.\n",
        "- Lists use [], tuples use ().\n",
        "- Tuples can be slightly faster and are safer for fixed collections."
      ],
      "metadata": {
        "id": "cHC8vHIMV-8R"
      }
    },
    {
      "cell_type": "markdown",
      "source": [
        "4- Describe how dictionaries store data.\n",
        "- Dictionaries store data as key-value pairs using a hash table (keys are hashed to find an index where the value is stored). This allows (average) O(1) lookup by key."
      ],
      "metadata": {
        "id": "NTGnaAN0XvFP"
      }
    },
    {
      "cell_type": "markdown",
      "source": [
        "5- Why use a set instead of a list?\n",
        "- Sets are unordered collections of unique elements — use them when you need uniqueness and fast membership tests (average O(1)), and when order or duplicates don't matter.\n",
        "\n",
        "6- What is a string in Python, and how is it different from a list?\n",
        "- A string is an immutable sequence of characters. Unlike lists (mutable, can hold mixed types), strings hold characters and cannot be changed in-place.\n",
        "\n",
        "7-How do tuples ensure data integrity in Python?\n",
        "- Because tuples are immutable, their contents cannot be changed after creation, which prevents accidental modification and can be used to represent fixed records.\n",
        "\n",
        "8-What is a hash table, and how does it relate to dictionaries in Python?\n",
        "- A hash table maps keys to buckets via a hash function. Python dictionaries are implemented using hash tables, allowing fast key-based access.\n",
        "\n",
        "9- Can lists contain different data types in Python?\n",
        "- Yes — Python lists are heterogeneous and can contain elements of different types.\n",
        "\n",
        "10- Explain why strings are immutable in Python.\n",
        "- Immutability simplifies implementation (hashing, sharing, thread-safety), and allows strings to be used as dictionary keys and cached/shared internally.\n",
        "\n",
        "11- What advantages do dictionaries offer over lists for certain tasks?\n",
        "- Dictionaries provide fast lookup by key (average O(1)), while lists require O(n) search unless you know the index. Use dicts when you need associative mapping (key → value).\n",
        "\n",
        "12- Scenario where tuple is preferable over list.\n",
        "- When you need a fixed collection (e.g., coordinates (x, y), RGB triplet), or want to ensure data can't be modified (records, keys in dicts).\n",
        "\n",
        "13- How do sets handle duplicate values in Python?\n",
        "- Sets automatically discard duplicates; each element appears only once.\n",
        "\n",
        "14- How does the in keyword work differently for lists and dictionaries?\n",
        "\n",
        "- For lists: x in list checks element membership by scanning (O(n)).\n",
        "- For dictionaries: key in dict checks presence of a key using the hash table (average O(1)). (To check values: x in dict.values() is O(n).)\n",
        "\n",
        "15 -Can you modify the elements of a tuple? Explain why or why not.\n",
        "- No — tuples are immutable. You cannot change, add, or remove their elements. (If a tuple contains a mutable object, that object can be mutated.)\n",
        "\n",
        "16- What is a nested dictionary, and give an example use case.\n",
        "- A nested dictionary has dictionaries as values. Example use: JSON-like data, user records: {'user1': {'age':25, 'city':'NY'}, 'user2': {...}}.\n",
        "\n",
        "17- Describe the time complexity of accessing elements in a dictionary.\n",
        "- Average-case O(1) for lookup by key. Worst-case can be O(n) under heavy hash collisions, but Python handles this well.\n",
        "\n",
        "18- In what situations are lists preferred over dictionaries?\n",
        "- When order matters (and you need indexed access), when you store sequences of items (like arrays), or when duplicates matter.\n",
        "\n",
        "19- Why are dictionaries considered unordered, and how does that affect data retrieval?\n",
        "- Historically dictionaries were unordered (no guaranteed order). From Python 3.7+, insertion order is preserved in CPython as an implementation detail and in the language spec. Conceptually dicts are mappings optimized for key lookup; retrieval is by key, not by position — you shouldn't rely on ordering for logic unless you explicitly need ordered behavior.\n",
        "\n",
        "20- Difference between a list and a dictionary in terms of data retrieval.\n",
        "- Lists: indexed retrieval by integer index (O(1) by index), membership test O(n).\n",
        "Dictionaries: retrieval by key (O(1) average), membership test for keys O(1)."
      ],
      "metadata": {
        "id": "N3dSYCqaYI6F"
      }
    },
    {
      "cell_type": "markdown",
      "source": [
        "# Practical Questions And Answers"
      ],
      "metadata": {
        "id": "tKFFJLwnfXVy"
      }
    },
    {
      "cell_type": "code",
      "source": [
        "# 1- Create a string with your name and print it\n",
        "\n",
        "name = \"Harshit\"   # replace with your name\n",
        "print(name)"
      ],
      "metadata": {
        "colab": {
          "base_uri": "https://localhost:8080/"
        },
        "id": "s8I5S-2BfUF1",
        "outputId": "640a215e-9c66-45b4-94ac-62dcc3b4ec4e"
      },
      "execution_count": null,
      "outputs": [
        {
          "output_type": "stream",
          "name": "stdout",
          "text": [
            "Harshit\n"
          ]
        }
      ]
    },
    {
      "cell_type": "code",
      "source": [
        "# 2- Length of the string \"Hello World\"\n",
        "\n",
        "s = \"Hello World\"\n",
        "print(len(s))"
      ],
      "metadata": {
        "colab": {
          "base_uri": "https://localhost:8080/"
        },
        "id": "lnSFQqS9fsRY",
        "outputId": "a519d002-0edb-448f-f255-b199a1e1ceb2"
      },
      "execution_count": null,
      "outputs": [
        {
          "output_type": "stream",
          "name": "stdout",
          "text": [
            "11\n"
          ]
        }
      ]
    },
    {
      "cell_type": "code",
      "source": [
        "# 3- Slice the first 3 characters from \"Python Programming\"\n",
        "\n",
        "s = \"Python Programming\"\n",
        "print(s[:3])"
      ],
      "metadata": {
        "colab": {
          "base_uri": "https://localhost:8080/"
        },
        "id": "V3YNf7SBgBMB",
        "outputId": "c77ea68b-f805-417a-9c5e-dab1f1bd05a7"
      },
      "execution_count": null,
      "outputs": [
        {
          "output_type": "stream",
          "name": "stdout",
          "text": [
            "Pyt\n"
          ]
        }
      ]
    },
    {
      "cell_type": "code",
      "source": [
        "# 4- Convert \"hello\" to uppercase\n",
        "\n",
        "s = \"hello\"\n",
        "print(s.upper())"
      ],
      "metadata": {
        "colab": {
          "base_uri": "https://localhost:8080/"
        },
        "id": "YvZ1UX1_gVrg",
        "outputId": "f201de51-67c4-4c88-a7d2-ba2b2afbe6f9"
      },
      "execution_count": null,
      "outputs": [
        {
          "output_type": "stream",
          "name": "stdout",
          "text": [
            "HELLO\n"
          ]
        }
      ]
    },
    {
      "cell_type": "code",
      "source": [
        "# 5- Replace \"apple\" with \"orange\" in \"I like apple\"\n",
        "\n",
        "s = \"I like apple\"\n",
        "s2 = s.replace(\"apple\", \"orange\")\n",
        "print(s2)"
      ],
      "metadata": {
        "colab": {
          "base_uri": "https://localhost:8080/"
        },
        "id": "hsqjvfiNghGW",
        "outputId": "6c426c9a-3d5c-4635-ec2b-590da2e187eb"
      },
      "execution_count": null,
      "outputs": [
        {
          "output_type": "stream",
          "name": "stdout",
          "text": [
            "I like orange\n"
          ]
        }
      ]
    },
    {
      "cell_type": "code",
      "source": [
        "# 6- Create a list with numbers 1 to 5 and print it\n",
        "\n",
        "lst = [1, 2, 3, 4, 5]\n",
        "print(lst)"
      ],
      "metadata": {
        "colab": {
          "base_uri": "https://localhost:8080/"
        },
        "id": "JdwizqYAgs3U",
        "outputId": "92c8217c-5c26-414a-8d52-50cec2f05977"
      },
      "execution_count": null,
      "outputs": [
        {
          "output_type": "stream",
          "name": "stdout",
          "text": [
            "[1, 2, 3, 4, 5]\n"
          ]
        }
      ]
    },
    {
      "cell_type": "code",
      "source": [
        "# 7- Append the number 10 to the list [1, 2, 3, 4]\n",
        "\n",
        "lst = [1, 2, 3, 4]\n",
        "lst.append(10)\n",
        "print(lst)"
      ],
      "metadata": {
        "colab": {
          "base_uri": "https://localhost:8080/"
        },
        "id": "ihHfaU3-gx_S",
        "outputId": "700caefb-5db8-49c9-b3d1-7c38ecd75886"
      },
      "execution_count": null,
      "outputs": [
        {
          "output_type": "stream",
          "name": "stdout",
          "text": [
            "[1, 2, 3, 4, 10]\n"
          ]
        }
      ]
    },
    {
      "cell_type": "code",
      "source": [
        "# 8- Remove the number 3 from the list [1, 2, 3, 4, 5]\n",
        "\n",
        "lst = [1, 2, 3, 4, 5]\n",
        "lst.remove(3)\n",
        "print(lst)"
      ],
      "metadata": {
        "colab": {
          "base_uri": "https://localhost:8080/"
        },
        "id": "zymhR-qVg7e-",
        "outputId": "4efbdd88-0798-4de6-f7ed-8666d775b1a6"
      },
      "execution_count": null,
      "outputs": [
        {
          "output_type": "stream",
          "name": "stdout",
          "text": [
            "[1, 2, 4, 5]\n"
          ]
        }
      ]
    },
    {
      "cell_type": "code",
      "source": [
        "# 9- Access the second element in ['a', 'b', 'c', 'd']\n",
        "\n",
        "lst = ['a', 'b', 'c', 'd']\n",
        "print(lst[1])"
      ],
      "metadata": {
        "colab": {
          "base_uri": "https://localhost:8080/"
        },
        "id": "63HtMeHNhC2q",
        "outputId": "1be1b1aa-f32e-4ca6-bf48-26b87264d0fa"
      },
      "execution_count": null,
      "outputs": [
        {
          "output_type": "stream",
          "name": "stdout",
          "text": [
            "b\n"
          ]
        }
      ]
    },
    {
      "cell_type": "code",
      "source": [
        "# 10- Reverse the list [10, 20, 30, 40, 50]\n",
        "\n",
        "lst = [10, 20, 30, 40, 50]\n",
        "lst.reverse()\n",
        "print(lst)"
      ],
      "metadata": {
        "colab": {
          "base_uri": "https://localhost:8080/"
        },
        "id": "YThxe6Q9hIfY",
        "outputId": "14874064-338c-405e-eac7-18bbca9f1a64"
      },
      "execution_count": null,
      "outputs": [
        {
          "output_type": "stream",
          "name": "stdout",
          "text": [
            "[50, 40, 30, 20, 10]\n"
          ]
        }
      ]
    },
    {
      "cell_type": "code",
      "source": [
        "# 11- Create a tuple with 100, 200, 300 and print it\n",
        "\n",
        "t = (100, 200, 300)\n",
        "print(t)"
      ],
      "metadata": {
        "colab": {
          "base_uri": "https://localhost:8080/"
        },
        "id": "tRZcL7PehsP8",
        "outputId": "462c9353-6962-4e76-9ddb-6999571538a8"
      },
      "execution_count": null,
      "outputs": [
        {
          "output_type": "stream",
          "name": "stdout",
          "text": [
            "(100, 200, 300)\n"
          ]
        }
      ]
    },
    {
      "cell_type": "code",
      "source": [
        "# 12- Access second-to-last element of ('red','green','blue','yellow')\n",
        "\n",
        "t = ('red', 'green', 'blue', 'yellow')\n",
        "print(t[-2])"
      ],
      "metadata": {
        "colab": {
          "base_uri": "https://localhost:8080/"
        },
        "id": "zERrflXph7Yf",
        "outputId": "df1e8da6-65af-4f34-c3c6-22727750a9b9"
      },
      "execution_count": null,
      "outputs": [
        {
          "output_type": "stream",
          "name": "stdout",
          "text": [
            "blue\n"
          ]
        }
      ]
    },
    {
      "cell_type": "code",
      "source": [
        "# 13- Find the minimum number in (10, 20, 5, 15)\n",
        "\n",
        "t = (10, 20, 5, 15)\n",
        "print(min(t))"
      ],
      "metadata": {
        "colab": {
          "base_uri": "https://localhost:8080/"
        },
        "id": "vQCumZ4kiF5R",
        "outputId": "c88e0ede-6eab-4da2-f725-4a93741b971e"
      },
      "execution_count": null,
      "outputs": [
        {
          "output_type": "stream",
          "name": "stdout",
          "text": [
            "5\n"
          ]
        }
      ]
    },
    {
      "cell_type": "code",
      "source": [
        "#14- Index of \"cat\" in ('dog','cat','rabbit')\n",
        "\n",
        "t = ('dog', 'cat', 'rabbit')\n",
        "print(t.index('cat'))"
      ],
      "metadata": {
        "colab": {
          "base_uri": "https://localhost:8080/"
        },
        "id": "zZXPa1S0iOGI",
        "outputId": "6210b1f9-5454-4231-9d1f-ecf48e887b9b"
      },
      "execution_count": null,
      "outputs": [
        {
          "output_type": "stream",
          "name": "stdout",
          "text": [
            "1\n"
          ]
        }
      ]
    },
    {
      "cell_type": "code",
      "source": [
        "#15- Tuple of three fruits and check if \"kiwi\" is in it\n",
        "\n",
        "fruits = ('apple', 'banana', 'mango')\n",
        "print(\"kiwi\" in fruits)"
      ],
      "metadata": {
        "colab": {
          "base_uri": "https://localhost:8080/"
        },
        "id": "Qok2oAfAibfp",
        "outputId": "be7ba1d5-4d25-4a67-8c0e-d96e9749b218"
      },
      "execution_count": null,
      "outputs": [
        {
          "output_type": "stream",
          "name": "stdout",
          "text": [
            "False\n"
          ]
        }
      ]
    },
    {
      "cell_type": "code",
      "source": [
        "#16- Create a set with 'a', 'b', 'c' and print it\n",
        "\n",
        "s = {'a', 'b', 'c'}\n",
        "print(s)"
      ],
      "metadata": {
        "colab": {
          "base_uri": "https://localhost:8080/"
        },
        "id": "1TgKLCpWitGh",
        "outputId": "3a3fdd6b-944b-45b9-dfe7-343885f4f98f"
      },
      "execution_count": null,
      "outputs": [
        {
          "output_type": "stream",
          "name": "stdout",
          "text": [
            "{'a', 'c', 'b'}\n"
          ]
        }
      ]
    },
    {
      "cell_type": "code",
      "source": [
        "#17- Clear all elements from the set {1,2,3,4,5}\n",
        "\n",
        "s = {1, 2, 3, 4, 5}\n",
        "s.clear()\n",
        "print(s)"
      ],
      "metadata": {
        "colab": {
          "base_uri": "https://localhost:8080/"
        },
        "id": "1TWtnvVCiy5T",
        "outputId": "1a8f3139-5349-4218-e3cb-b71323672f28"
      },
      "execution_count": null,
      "outputs": [
        {
          "output_type": "stream",
          "name": "stdout",
          "text": [
            "set()\n"
          ]
        }
      ]
    },
    {
      "cell_type": "code",
      "source": [
        "#18- Remove element 4 from the set {1,2,3,4}\n",
        "\n",
        "s = {1, 2, 3, 4}\n",
        "s.remove(4)\n",
        "print(s)"
      ],
      "metadata": {
        "colab": {
          "base_uri": "https://localhost:8080/"
        },
        "id": "fJZwhYLfjNfj",
        "outputId": "9e38d10c-1b82-4057-e7f7-91ec78b143e5"
      },
      "execution_count": null,
      "outputs": [
        {
          "output_type": "stream",
          "name": "stdout",
          "text": [
            "{1, 2, 3}\n"
          ]
        }
      ]
    },
    {
      "cell_type": "code",
      "source": [
        "#19- Union of {1,2,3} and {3,4,5}\n",
        "\n",
        "a = {1, 2, 3}\n",
        "b = {3, 4, 5}\n",
        "print(a.union(b))"
      ],
      "metadata": {
        "colab": {
          "base_uri": "https://localhost:8080/"
        },
        "id": "rFP9cv7QjT5L",
        "outputId": "a3e3c450-8cb5-4d66-a76a-f322fdaf95ae"
      },
      "execution_count": null,
      "outputs": [
        {
          "output_type": "stream",
          "name": "stdout",
          "text": [
            "{1, 2, 3, 4, 5}\n"
          ]
        }
      ]
    },
    {
      "cell_type": "code",
      "source": [
        "#20- Intersection of {1,2,3} and {2,3,4}\n",
        "\n",
        "a = {1, 2, 3}\n",
        "b = {2, 3, 4}\n",
        "print(a.intersection(b))"
      ],
      "metadata": {
        "colab": {
          "base_uri": "https://localhost:8080/"
        },
        "id": "Rbt1Vb6FjmBt",
        "outputId": "f9813ca4-515b-4ae7-bb1a-80b8bc5f2e84"
      },
      "execution_count": null,
      "outputs": [
        {
          "output_type": "stream",
          "name": "stdout",
          "text": [
            "{2, 3}\n"
          ]
        }
      ]
    },
    {
      "cell_type": "code",
      "source": [
        "#21- Create dictionary with keys \"name\",\"age\",\"city\" and print it\n",
        "\n",
        "person = {\"name\": \"John\", \"age\": 25, \"city\": \"New York\"}\n",
        "print(person)"
      ],
      "metadata": {
        "colab": {
          "base_uri": "https://localhost:8080/"
        },
        "id": "OkYBANSMjy4W",
        "outputId": "0edebd28-26e3-425d-f1e7-42c86a18c83d"
      },
      "execution_count": null,
      "outputs": [
        {
          "output_type": "stream",
          "name": "stdout",
          "text": [
            "{'name': 'John', 'age': 25, 'city': 'New York'}\n"
          ]
        }
      ]
    },
    {
      "cell_type": "code",
      "source": [
        "#22- Add \"country\":\"USA\" to {'name':'John', 'age':25}\n",
        "\n",
        "d = {'name': 'John', 'age': 25}\n",
        "d['country'] = 'USA'\n",
        "print(d)"
      ],
      "metadata": {
        "colab": {
          "base_uri": "https://localhost:8080/"
        },
        "id": "J7fsBcTej5DF",
        "outputId": "6d970f66-6dc0-4724-a942-0e7a944d24aa"
      },
      "execution_count": null,
      "outputs": [
        {
          "output_type": "stream",
          "name": "stdout",
          "text": [
            "{'name': 'John', 'age': 25, 'country': 'USA'}\n"
          ]
        }
      ]
    },
    {
      "cell_type": "code",
      "source": [
        "#23- Access value for \"name\" in {'name':'Alice','age':30}\n",
        "\n",
        "d = {'name': 'Alice', 'age': 30}\n",
        "print(d['name'])"
      ],
      "metadata": {
        "colab": {
          "base_uri": "https://localhost:8080/"
        },
        "id": "1uGJIiE8kDzL",
        "outputId": "6ef51633-0687-44dd-c229-71444c019f03"
      },
      "execution_count": null,
      "outputs": [
        {
          "output_type": "stream",
          "name": "stdout",
          "text": [
            "Alice\n"
          ]
        }
      ]
    },
    {
      "cell_type": "code",
      "source": [
        "#24- Remove key \"age\" from {'name':'Bob','age':22,'city':'New York'}\n",
        "\n",
        "d = {'name': 'Bob', 'age': 22, 'city': 'New York'}\n",
        "d.pop('age', None)\n",
        "print(d)"
      ],
      "metadata": {
        "colab": {
          "base_uri": "https://localhost:8080/"
        },
        "id": "eRDZUZAokPKz",
        "outputId": "8f3a40c6-6c38-4609-c6df-e2c6526e034f"
      },
      "execution_count": null,
      "outputs": [
        {
          "output_type": "stream",
          "name": "stdout",
          "text": [
            "{'name': 'Bob', 'city': 'New York'}\n"
          ]
        }
      ]
    },
    {
      "cell_type": "code",
      "source": [
        "#25- Check if key \"city\" exists in {'name':'Alice','city':'Paris'}\n",
        "\n",
        "d = {'name': 'Alice', 'city': 'Paris'}\n",
        "print('city' in d)"
      ],
      "metadata": {
        "colab": {
          "base_uri": "https://localhost:8080/"
        },
        "id": "VciQLxe5kZGk",
        "outputId": "aacf0092-a61b-4842-c5b0-29653f3f316c"
      },
      "execution_count": null,
      "outputs": [
        {
          "output_type": "stream",
          "name": "stdout",
          "text": [
            "True\n"
          ]
        }
      ]
    },
    {
      "cell_type": "code",
      "source": [
        "#26- Create a list, a tuple, and a dictionary, and print them all\n",
        "\n",
        "lst = [1, 2, 3]\n",
        "tup = (4, 5, 6)\n",
        "d = {'a': 7,'b': 8}\n",
        "print(lst)\n",
        "print(tup)\n",
        "print(d)"
      ],
      "metadata": {
        "colab": {
          "base_uri": "https://localhost:8080/"
        },
        "id": "ZGUo051qlBde",
        "outputId": "7fb8df98-5524-4ecc-b6b0-f9988828b5ba"
      },
      "execution_count": null,
      "outputs": [
        {
          "output_type": "stream",
          "name": "stdout",
          "text": [
            "[1, 2, 3]\n",
            "(4, 5, 6)\n",
            "{'a': 7, 'b': 8}\n"
          ]
        }
      ]
    },
    {
      "cell_type": "code",
      "source": [
        "#27- Create list of 5 random numbers between 1 and 100, sort ascending, print result\n",
        "\n",
        "import random\n",
        "lst = [random.randint(1, 100) for _ in range(5)]\n",
        "lst.sort()\n",
        "print(lst)"
      ],
      "metadata": {
        "colab": {
          "base_uri": "https://localhost:8080/"
        },
        "id": "X2UhncFblIJw",
        "outputId": "730c797a-b0c7-4744-e845-7aa14daccb91"
      },
      "execution_count": null,
      "outputs": [
        {
          "output_type": "stream",
          "name": "stdout",
          "text": [
            "[15, 35, 55, 59, 89]\n"
          ]
        }
      ]
    },
    {
      "cell_type": "code",
      "source": [
        "#28- Create a list with strings and print the element at the third index\n",
        "\n",
        "lst = [\"zero\", \"one\", \"two\", \"three\", \"four\"]\n",
        "print(lst[3])"
      ],
      "metadata": {
        "colab": {
          "base_uri": "https://localhost:8080/"
        },
        "id": "P-JBjU5Hla_O",
        "outputId": "94bbd8d7-7de4-4a01-e7de-a8d633bcdfe6"
      },
      "execution_count": null,
      "outputs": [
        {
          "output_type": "stream",
          "name": "stdout",
          "text": [
            "three\n"
          ]
        }
      ]
    },
    {
      "cell_type": "code",
      "source": [
        "#29- Combine two dictionaries into one and print result\n",
        "\n",
        "d1 = {'a': 1, 'b': 2}\n",
        "d2 = {'c': 3, 'd': 4}\n",
        "combined = d1 | d2\n",
        "print(combined)"
      ],
      "metadata": {
        "colab": {
          "base_uri": "https://localhost:8080/"
        },
        "id": "FqvV3FK-liHV",
        "outputId": "57fd1b4e-2bc5-411b-906a-ecc0365b060b"
      },
      "execution_count": null,
      "outputs": [
        {
          "output_type": "stream",
          "name": "stdout",
          "text": [
            "{'a': 1, 'b': 2, 'c': 3, 'd': 4}\n"
          ]
        }
      ]
    },
    {
      "cell_type": "code",
      "source": [
        "#30- Convert a list of strings into a set\n",
        "\n",
        "lst = [\"apple\", \"banana\", \"apple\", \"mango\"]\n",
        "s = set(lst)\n",
        "print(s)"
      ],
      "metadata": {
        "colab": {
          "base_uri": "https://localhost:8080/"
        },
        "id": "uHC51-z8lwj9",
        "outputId": "31dfeecf-1aea-4138-f2f9-cf41577fb1a4"
      },
      "execution_count": null,
      "outputs": [
        {
          "output_type": "stream",
          "name": "stdout",
          "text": [
            "{'mango', 'banana', 'apple'}\n"
          ]
        }
      ]
    }
  ]
}